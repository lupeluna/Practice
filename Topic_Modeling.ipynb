{
 "cells": [
  {
   "cell_type": "code",
   "execution_count": 1,
   "metadata": {},
   "outputs": [],
   "source": [
    "import pandas as pd\n",
    "import os"
   ]
  },
  {
   "cell_type": "code",
   "execution_count": 2,
   "metadata": {},
   "outputs": [
    {
     "data": {
      "text/plain": [
       "<bound method NDFrame.head of         id  year                                              title  \\\n",
       "0        1  1987  Self-Organization of Associative Database and ...   \n",
       "1       10  1987  A Mean Field Theory of Layer IV of Visual Cort...   \n",
       "2      100  1988  Storing Covariance by the Associative Long-Ter...   \n",
       "3     1000  1994  Bayesian Query Construction for Neural Network...   \n",
       "4     1001  1994  Neural Network Ensembles, Cross Validation, an...   \n",
       "...    ...   ...                                                ...   \n",
       "6555   994  1994                Single Transistor Learning Synapses   \n",
       "6556   996  1994  Bias, Variance and the Combination of Least Sq...   \n",
       "6557   997  1994          A Real Time Clustering CMOS Neural Engine   \n",
       "6558   998  1994  Learning direction in global motion: two class...   \n",
       "6559   999  1994  Correlation and Interpolation Networks for Rea...   \n",
       "\n",
       "     event_type                                           pdf_name  \\\n",
       "0           NaN  1-self-organization-of-associative-database-an...   \n",
       "1           NaN  10-a-mean-field-theory-of-layer-iv-of-visual-c...   \n",
       "2           NaN  100-storing-covariance-by-the-associative-long...   \n",
       "3           NaN  1000-bayesian-query-construction-for-neural-ne...   \n",
       "4           NaN  1001-neural-network-ensembles-cross-validation...   \n",
       "...         ...                                                ...   \n",
       "6555        NaN        994-single-transistor-learning-synapses.pdf   \n",
       "6556        NaN  996-bias-variance-and-the-combination-of-least...   \n",
       "6557        NaN  997-a-real-time-clustering-cmos-neural-engine.pdf   \n",
       "6558        NaN  998-learning-direction-in-global-motion-two-cl...   \n",
       "6559        NaN  999-correlation-and-interpolation-networks-for...   \n",
       "\n",
       "              abstract                                         paper_text  \n",
       "0     Abstract Missing  767\\n\\nSELF-ORGANIZATION OF ASSOCIATIVE DATABA...  \n",
       "1     Abstract Missing  683\\n\\nA MEAN FIELD THEORY OF LAYER IV OF VISU...  \n",
       "2     Abstract Missing  394\\n\\nSTORING COVARIANCE BY THE ASSOCIATIVE\\n...  \n",
       "3     Abstract Missing  Bayesian Query Construction for Neural\\nNetwor...  \n",
       "4     Abstract Missing  Neural Network Ensembles, Cross\\nValidation, a...  \n",
       "...                ...                                                ...  \n",
       "6555  Abstract Missing  Single Transistor Learning Synapses\\n\\nPaul Ha...  \n",
       "6556  Abstract Missing  Bias, Variance and the Combination of\\nLeast S...  \n",
       "6557  Abstract Missing  A Real Time Clustering CMOS\\nNeural Engine\\nT....  \n",
       "6558  Abstract Missing  Learning direction in global motion: two\\nclas...  \n",
       "6559  Abstract Missing  Correlation and Interpolation Networks for\\nRe...  \n",
       "\n",
       "[6560 rows x 7 columns]>"
      ]
     },
     "execution_count": 2,
     "metadata": {},
     "output_type": "execute_result"
    }
   ],
   "source": [
    "# bring in csv file\n",
    "papers = pd.read_csv('papers.csv')\n",
    "\n",
    "# print head\n",
    "papers.head"
   ]
  },
  {
   "cell_type": "code",
   "execution_count": 3,
   "metadata": {},
   "outputs": [
    {
     "data": {
      "text/html": [
       "<div>\n",
       "<style scoped>\n",
       "    .dataframe tbody tr th:only-of-type {\n",
       "        vertical-align: middle;\n",
       "    }\n",
       "\n",
       "    .dataframe tbody tr th {\n",
       "        vertical-align: top;\n",
       "    }\n",
       "\n",
       "    .dataframe thead th {\n",
       "        text-align: right;\n",
       "    }\n",
       "</style>\n",
       "<table border=\"1\" class=\"dataframe\">\n",
       "  <thead>\n",
       "    <tr style=\"text-align: right;\">\n",
       "      <th></th>\n",
       "      <th>year</th>\n",
       "      <th>title</th>\n",
       "      <th>abstract</th>\n",
       "      <th>paper_text</th>\n",
       "    </tr>\n",
       "  </thead>\n",
       "  <tbody>\n",
       "    <tr>\n",
       "      <th>3867</th>\n",
       "      <td>2012</td>\n",
       "      <td>Dimensionality Dependent PAC-Bayes Margin Bound</td>\n",
       "      <td>Margin is one of the most important concepts i...</td>\n",
       "      <td>Dimensionality Dependent PAC-Bayes Margin Boun...</td>\n",
       "    </tr>\n",
       "    <tr>\n",
       "      <th>3197</th>\n",
       "      <td>2010</td>\n",
       "      <td>Probabilistic Inference and Differential Privacy</td>\n",
       "      <td>We identify and investigate a strong connectio...</td>\n",
       "      <td>Probabilistic Inference and Differential Priva...</td>\n",
       "    </tr>\n",
       "    <tr>\n",
       "      <th>3223</th>\n",
       "      <td>1990</td>\n",
       "      <td>Time Trials on Second-Order and Variable-Learn...</td>\n",
       "      <td>Abstract Missing</td>\n",
       "      <td>Time Trials on Second-Order and\\nVariable-Lear...</td>\n",
       "    </tr>\n",
       "    <tr>\n",
       "      <th>4356</th>\n",
       "      <td>2013</td>\n",
       "      <td>Stochastic Convex Optimization with Multiple  ...</td>\n",
       "      <td>In this paper, we are interested in the develo...</td>\n",
       "      <td>Stochastic Convex Optimization with\\nMultiple ...</td>\n",
       "    </tr>\n",
       "    <tr>\n",
       "      <th>3227</th>\n",
       "      <td>2010</td>\n",
       "      <td>Self-Paced Learning for Latent Variable Models</td>\n",
       "      <td>Latent variable models are a powerful tool for...</td>\n",
       "      <td>Self-Paced Learning for Latent Variable Models...</td>\n",
       "    </tr>\n",
       "  </tbody>\n",
       "</table>\n",
       "</div>"
      ],
      "text/plain": [
       "      year                                              title  \\\n",
       "3867  2012    Dimensionality Dependent PAC-Bayes Margin Bound   \n",
       "3197  2010   Probabilistic Inference and Differential Privacy   \n",
       "3223  1990  Time Trials on Second-Order and Variable-Learn...   \n",
       "4356  2013  Stochastic Convex Optimization with Multiple  ...   \n",
       "3227  2010     Self-Paced Learning for Latent Variable Models   \n",
       "\n",
       "                                               abstract  \\\n",
       "3867  Margin is one of the most important concepts i...   \n",
       "3197  We identify and investigate a strong connectio...   \n",
       "3223                                   Abstract Missing   \n",
       "4356  In this paper, we are interested in the develo...   \n",
       "3227  Latent variable models are a powerful tool for...   \n",
       "\n",
       "                                             paper_text  \n",
       "3867  Dimensionality Dependent PAC-Bayes Margin Boun...  \n",
       "3197  Probabilistic Inference and Differential Priva...  \n",
       "3223  Time Trials on Second-Order and\\nVariable-Lear...  \n",
       "4356  Stochastic Convex Optimization with\\nMultiple ...  \n",
       "3227  Self-Paced Learning for Latent Variable Models...  "
      ]
     },
     "execution_count": 3,
     "metadata": {},
     "output_type": "execute_result"
    }
   ],
   "source": [
    "# Remove the columns\n",
    "papers = papers.drop(columns=['id', 'event_type', 'pdf_name'], axis=1).sample(100)\n",
    "\n",
    "# Print out the first rows of papers\n",
    "papers.head()"
   ]
  },
  {
   "cell_type": "code",
   "execution_count": null,
   "metadata": {},
   "outputs": [],
   "source": []
  }
 ],
 "metadata": {
  "kernelspec": {
   "display_name": "Python 3",
   "language": "python",
   "name": "python3"
  },
  "language_info": {
   "codemirror_mode": {
    "name": "ipython",
    "version": 3
   },
   "file_extension": ".py",
   "mimetype": "text/x-python",
   "name": "python",
   "nbconvert_exporter": "python",
   "pygments_lexer": "ipython3",
   "version": "3.8.5"
  }
 },
 "nbformat": 4,
 "nbformat_minor": 4
}
